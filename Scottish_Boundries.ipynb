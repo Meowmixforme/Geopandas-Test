{
  "nbformat": 4,
  "nbformat_minor": 0,
  "metadata": {
    "colab": {
      "provenance": [],
      "authorship_tag": "ABX9TyM9v5+sQIYQyRTI4rRsQtDl",
      "include_colab_link": true
    },
    "kernelspec": {
      "name": "python3",
      "display_name": "Python 3"
    },
    "language_info": {
      "name": "python"
    }
  },
  "cells": [
    {
      "cell_type": "markdown",
      "metadata": {
        "id": "view-in-github",
        "colab_type": "text"
      },
      "source": [
        "<a href=\"https://colab.research.google.com/github/Meowmixforme/Geopandas-Test/blob/main/Scottish_Boundries.ipynb\" target=\"_parent\"><img src=\"https://colab.research.google.com/assets/colab-badge.svg\" alt=\"Open In Colab\"/></a>"
      ]
    },
    {
      "cell_type": "code",
      "execution_count": 1,
      "metadata": {
        "id": "OGoY58NeM97V"
      },
      "outputs": [],
      "source": [
        "import geopandas as gpd"
      ]
    },
    {
      "cell_type": "code",
      "source": [
        "import geopandas as gpd\n",
        "import fiona\n",
        "\n",
        "with fiona.Env(SHAPE_RESTORE_SHX='YES'):\n",
        "    boundries = gpd.read_file('pub_las.shp')\n",
        "print(boundries)\n",
        "\n"
      ],
      "metadata": {
        "colab": {
          "base_uri": "https://localhost:8080/"
        },
        "id": "mrtq31haNEtR",
        "outputId": "f9b35ad1-986f-4f79-d31b-8e0fcfac1a9f"
      },
      "execution_count": 11,
      "outputs": [
        {
          "output_type": "stream",
          "name": "stdout",
          "text": [
            "                                             geometry\n",
            "0   POLYGON ((316464.998 776753.496, 316489.503 77...\n",
            "1   POLYGON ((291801.173 688448.131, 291468.199 68...\n",
            "2   POLYGON ((332974.703 731066.604, 332829.400 73...\n",
            "3   POLYGON ((241287.603 653032.301, 241301.100 65...\n",
            "4   POLYGON ((250190.703 678031.705, 250198.503 67...\n",
            "5   POLYGON ((240058.354 655507.094, 240058.390 65...\n",
            "6   POLYGON ((288600.897 691308.005, 288630.101 69...\n",
            "7   POLYGON ((258096.702 672970.504, 258136.798 67...\n",
            "8   POLYGON ((236691.402 674686.203, 236712.897 67...\n",
            "9   POLYGON ((347072.999 658736.098, 347070.500 65...\n",
            "10  POLYGON ((272346.600 683872.603, 272407.201 68...\n",
            "11  POLYGON ((332974.703 731066.604, 332999.397 73...\n",
            "12  POLYGON ((250424.500 668812.904, 250576.003 66...\n",
            "13  POLYGON ((377415.800 672672.700, 377411.500 67...\n",
            "14  POLYGON ((262088.598 663444.900, 262096.604 66...\n",
            "15  POLYGON ((237551.502 734670.002, 237568.001 73...\n",
            "16  POLYGON ((238422.898 690979.899, 238442.999 69...\n",
            "17  POLYGON ((302261.504 656046.998, 301976.101 65...\n",
            "18  MULTIPOLYGON (((238924.503 750168.496, 238918....\n",
            "19  MULTIPOLYGON (((352324.388 867640.741, 352316....\n",
            "20  MULTIPOLYGON (((331563.930 1030321.740, 331571...\n",
            "21  MULTIPOLYGON (((239380.504 750213.503, 239403....\n",
            "22  MULTIPOLYGON (((352897.520 868195.600, 352902....\n",
            "23  MULTIPOLYGON (((345142.680 729393.000, 345150....\n",
            "24  MULTIPOLYGON (((396527.951 813453.641, 396527....\n",
            "25  MULTIPOLYGON (((332968.196 673469.926, 332830....\n",
            "26  MULTIPOLYGON (((332085.803 671460.196, 332054....\n",
            "27  MULTIPOLYGON (((452156.000 1206081.500, 452163...\n",
            "28  MULTIPOLYGON (((225064.253 669790.328, 225067....\n",
            "29  MULTIPOLYGON (((342644.799 576206.702, 342613....\n",
            "30  MULTIPOLYGON (((236767.504 636864.199, 236849....\n",
            "31  MULTIPOLYGON (((152019.227 966602.488, 152022....\n"
          ]
        }
      ]
    }
  ]
}